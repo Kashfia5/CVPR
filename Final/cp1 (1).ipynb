{
  "nbformat": 4,
  "nbformat_minor": 0,
  "metadata": {
    "colab": {
      "provenance": []
    },
    "kernelspec": {
      "name": "python3",
      "display_name": "Python 3"
    },
    "language_info": {
      "name": "python"
    }
  },
  "cells": [
    {
      "cell_type": "code",
      "execution_count": 1,
      "metadata": {
        "id": "l9eGI7XIIdtF"
      },
      "outputs": [],
      "source": [
        "import tensorflow as tf\n",
        "from tensorflow import keras\n",
        "from tensorflow.keras import layers\n",
        "from tensorflow.keras.datasets import mnist\n",
        "import matplotlib.pyplot as plt"
      ]
    },
    {
      "cell_type": "code",
      "source": [
        "(x_train, y_train), (x_test, y_test) = mnist.load_data()"
      ],
      "metadata": {
        "id": "O7SEx0PUIxyJ"
      },
      "execution_count": 9,
      "outputs": []
    },
    {
      "cell_type": "code",
      "source": [
        "x_train = x_train.astype(\"float32\") / 255.0\n",
        "x_test = x_test.astype(\"float32\") / 255.0"
      ],
      "metadata": {
        "id": "-ip0_VN0I-1s"
      },
      "execution_count": 4,
      "outputs": []
    },
    {
      "cell_type": "code",
      "source": [
        "x_train = x_train.reshape(-1, 28, 28, 1)\n",
        "x_test = x_test.reshape(-1, 28, 28, 1)"
      ],
      "metadata": {
        "id": "ClUI4k8fJB2B"
      },
      "execution_count": 5,
      "outputs": []
    },
    {
      "cell_type": "code",
      "source": [
        "model = keras.Sequential(\n",
        "    [\n",
        "        layers.Conv2D(32,(3,3), activation=\"relu\", input_shape=(28,28,1)),\n",
        "        layers.MaxPooling2D(pool_size=(2,2)),\n",
        "        layers.Conv2D(64,(3,3), activation=\"relu\"),\n",
        "        layers.MaxPooling2D(pool_size=(2,2)),\n",
        "        layers.Flatten(),\n",
        "        layers.Dense(128, activation=\"relu\"),\n",
        "        layers.Dense(10, activation=\"softmax\"),\n",
        "    ]\n",
        ")"
      ],
      "metadata": {
        "id": "or7RhPTvJLl3"
      },
      "execution_count": 6,
      "outputs": []
    },
    {
      "cell_type": "code",
      "source": [
        "model.compile(\n",
        "    loss=\"sparse_categorical_crossentropy\",\n",
        "    optimizer=\"sgd\",\n",
        "    metrics=[\"accuracy\"],\n",
        ")"
      ],
      "metadata": {
        "id": "GEiVFfFbJRYW"
      },
      "execution_count": 7,
      "outputs": []
    },
    {
      "cell_type": "code",
      "source": [
        "history_sgd = model.fit(x_train, y_train, epochs=10, validation_split=0.1)"
      ],
      "metadata": {
        "colab": {
          "base_uri": "https://localhost:8080/"
        },
        "id": "xfcgpTjvJTi8",
        "outputId": "c95ab76e-ed6c-4957-b2cf-1c5fa791b895"
      },
      "execution_count": 8,
      "outputs": [
        {
          "output_type": "stream",
          "name": "stdout",
          "text": [
            "Epoch 1/10\n",
            "1688/1688 [==============================] - 37s 21ms/step - loss: 0.5240 - accuracy: 0.8505 - val_loss: 0.1489 - val_accuracy: 0.9575\n",
            "Epoch 2/10\n",
            "1688/1688 [==============================] - 36s 21ms/step - loss: 0.1502 - accuracy: 0.9543 - val_loss: 0.1098 - val_accuracy: 0.9670\n",
            "Epoch 3/10\n",
            "1688/1688 [==============================] - 36s 21ms/step - loss: 0.1039 - accuracy: 0.9682 - val_loss: 0.0876 - val_accuracy: 0.9747\n",
            "Epoch 4/10\n",
            "1688/1688 [==============================] - 36s 21ms/step - loss: 0.0830 - accuracy: 0.9745 - val_loss: 0.1010 - val_accuracy: 0.9687\n",
            "Epoch 5/10\n",
            "1688/1688 [==============================] - 36s 21ms/step - loss: 0.0702 - accuracy: 0.9781 - val_loss: 0.0692 - val_accuracy: 0.9792\n",
            "Epoch 6/10\n",
            "1688/1688 [==============================] - 35s 21ms/step - loss: 0.0617 - accuracy: 0.9808 - val_loss: 0.0665 - val_accuracy: 0.9822\n",
            "Epoch 7/10\n",
            "1688/1688 [==============================] - 36s 21ms/step - loss: 0.0544 - accuracy: 0.9828 - val_loss: 0.0570 - val_accuracy: 0.9833\n",
            "Epoch 8/10\n",
            "1688/1688 [==============================] - 36s 21ms/step - loss: 0.0481 - accuracy: 0.9849 - val_loss: 0.0533 - val_accuracy: 0.9855\n",
            "Epoch 9/10\n",
            "1688/1688 [==============================] - 35s 21ms/step - loss: 0.0443 - accuracy: 0.9865 - val_loss: 0.0584 - val_accuracy: 0.9853\n",
            "Epoch 10/10\n",
            "1688/1688 [==============================] - 35s 21ms/step - loss: 0.0404 - accuracy: 0.9870 - val_loss: 0.0590 - val_accuracy: 0.9835\n"
          ]
        }
      ]
    },
    {
      "cell_type": "code",
      "source": [
        "model_adam = keras.Sequential(\n",
        "    [\n",
        "        layers.Conv2D(32,(3,3), activation=\"relu\", input_shape=(28,28,1)),\n",
        "        layers.MaxPooling2D(pool_size=(2,2)),\n",
        "        layers.Conv2D(64,(3,3), activation=\"relu\"),\n",
        "        layers.MaxPooling2D(pool_size=(2,2)),\n",
        "        layers.Flatten(),\n",
        "        layers.Dense(128, activation=\"relu\"),\n",
        "        layers.Dense(10, activation=\"softmax\"),\n",
        "    ]\n",
        ")"
      ],
      "metadata": {
        "id": "ouzzOk2cLD33"
      },
      "execution_count": 10,
      "outputs": []
    },
    {
      "cell_type": "code",
      "source": [
        "model_adam.compile(\n",
        "    loss=\"sparse_categorical_crossentropy\",\n",
        "    optimizer=\"adam\",\n",
        "    metrics=[\"accuracy\"],\n",
        ")\n"
      ],
      "metadata": {
        "id": "_kRBLB8WLNh7"
      },
      "execution_count": 11,
      "outputs": []
    },
    {
      "cell_type": "code",
      "source": [
        "history_adam = model_adam.fit(x_train, y_train, epochs=10, validation_split=0.1)\n"
      ],
      "metadata": {
        "colab": {
          "base_uri": "https://localhost:8080/"
        },
        "id": "yXgTc_1PLSP1",
        "outputId": "edd63abd-8218-48af-9c01-db6949301e6b"
      },
      "execution_count": 12,
      "outputs": [
        {
          "output_type": "stream",
          "name": "stdout",
          "text": [
            "Epoch 1/10\n",
            "1688/1688 [==============================] - 37s 22ms/step - loss: 0.3367 - accuracy: 0.9519 - val_loss: 0.0570 - val_accuracy: 0.9823\n",
            "Epoch 2/10\n",
            "1688/1688 [==============================] - 36s 22ms/step - loss: 0.0621 - accuracy: 0.9806 - val_loss: 0.0613 - val_accuracy: 0.9832\n",
            "Epoch 3/10\n",
            "1688/1688 [==============================] - 36s 22ms/step - loss: 0.0499 - accuracy: 0.9849 - val_loss: 0.0548 - val_accuracy: 0.9838\n",
            "Epoch 4/10\n",
            "1688/1688 [==============================] - 36s 21ms/step - loss: 0.0423 - accuracy: 0.9865 - val_loss: 0.0564 - val_accuracy: 0.9865\n",
            "Epoch 5/10\n",
            "1688/1688 [==============================] - 37s 22ms/step - loss: 0.0337 - accuracy: 0.9899 - val_loss: 0.0671 - val_accuracy: 0.9858\n",
            "Epoch 6/10\n",
            "1688/1688 [==============================] - 40s 24ms/step - loss: 0.0312 - accuracy: 0.9910 - val_loss: 0.0580 - val_accuracy: 0.9863\n",
            "Epoch 7/10\n",
            "1688/1688 [==============================] - 36s 21ms/step - loss: 0.0312 - accuracy: 0.9907 - val_loss: 0.0641 - val_accuracy: 0.9867\n",
            "Epoch 8/10\n",
            "1688/1688 [==============================] - 36s 21ms/step - loss: 0.0224 - accuracy: 0.9936 - val_loss: 0.0803 - val_accuracy: 0.9817\n",
            "Epoch 9/10\n",
            "1688/1688 [==============================] - 36s 21ms/step - loss: 0.0236 - accuracy: 0.9930 - val_loss: 0.0650 - val_accuracy: 0.9858\n",
            "Epoch 10/10\n",
            "1688/1688 [==============================] - 36s 21ms/step - loss: 0.0205 - accuracy: 0.9939 - val_loss: 0.0826 - val_accuracy: 0.9848\n"
          ]
        }
      ]
    },
    {
      "cell_type": "code",
      "source": [
        "model_rmsprop = keras.Sequential(\n",
        "    [\n",
        "        layers.Conv2D(32,(3,3), activation=\"relu\", input_shape=(28,28,1)),\n",
        "        layers.MaxPooling2D(pool_size=(2,2)),\n",
        "        layers.Conv2D(64,(3,3), activation=\"relu\"),\n",
        "        layers.MaxPooling2D(pool_size=(2, 2)),\n",
        "        layers.Flatten(),\n",
        "        layers.Dense(128, activation=\"relu\"),\n",
        "        layers.Dense(10, activation=\"softmax\"),\n",
        "    ]\n",
        ")"
      ],
      "metadata": {
        "id": "xkhtNgPKNEtm"
      },
      "execution_count": 13,
      "outputs": []
    },
    {
      "cell_type": "code",
      "source": [
        "model_rmsprop.compile(\n",
        "    loss=\"sparse_categorical_crossentropy\",\n",
        "    optimizer=\"rmsprop\",\n",
        "    metrics=[\"accuracy\"],\n",
        ")"
      ],
      "metadata": {
        "id": "AXGxyqCcNI0I"
      },
      "execution_count": 14,
      "outputs": []
    },
    {
      "cell_type": "code",
      "source": [
        "history_rmsprop = model_rmsprop.fit(x_train, y_train, epochs=10, validation_split=0.1)"
      ],
      "metadata": {
        "colab": {
          "base_uri": "https://localhost:8080/"
        },
        "id": "RumT46HQNMgZ",
        "outputId": "5b37d5cf-8c90-4a86-83d2-d974f7acffea"
      },
      "execution_count": 15,
      "outputs": [
        {
          "output_type": "stream",
          "name": "stdout",
          "text": [
            "Epoch 1/10\n",
            "1688/1688 [==============================] - 36s 21ms/step - loss: 0.3575 - accuracy: 0.9484 - val_loss: 0.0657 - val_accuracy: 0.9827\n",
            "Epoch 2/10\n",
            "1688/1688 [==============================] - 36s 21ms/step - loss: 0.0672 - accuracy: 0.9819 - val_loss: 0.0762 - val_accuracy: 0.9843\n",
            "Epoch 3/10\n",
            "1688/1688 [==============================] - 35s 21ms/step - loss: 0.0565 - accuracy: 0.9861 - val_loss: 0.0457 - val_accuracy: 0.9893\n",
            "Epoch 4/10\n",
            "1688/1688 [==============================] - 36s 21ms/step - loss: 0.0458 - accuracy: 0.9885 - val_loss: 0.0732 - val_accuracy: 0.9873\n",
            "Epoch 5/10\n",
            "1688/1688 [==============================] - 36s 21ms/step - loss: 0.0432 - accuracy: 0.9907 - val_loss: 0.0792 - val_accuracy: 0.9857\n",
            "Epoch 6/10\n",
            "1688/1688 [==============================] - 36s 21ms/step - loss: 0.0361 - accuracy: 0.9917 - val_loss: 0.1060 - val_accuracy: 0.9882\n",
            "Epoch 7/10\n",
            "1688/1688 [==============================] - 36s 21ms/step - loss: 0.0395 - accuracy: 0.9924 - val_loss: 0.1121 - val_accuracy: 0.9858\n",
            "Epoch 8/10\n",
            "1688/1688 [==============================] - 36s 21ms/step - loss: 0.0324 - accuracy: 0.9941 - val_loss: 0.0994 - val_accuracy: 0.9867\n",
            "Epoch 9/10\n",
            "1688/1688 [==============================] - 44s 26ms/step - loss: 0.0300 - accuracy: 0.9943 - val_loss: 0.1197 - val_accuracy: 0.9907\n",
            "Epoch 10/10\n",
            "1688/1688 [==============================] - 37s 22ms/step - loss: 0.0305 - accuracy: 0.9947 - val_loss: 0.1109 - val_accuracy: 0.9888\n"
          ]
        }
      ]
    },
    {
      "cell_type": "code",
      "source": [
        "plt.plot(history_sgd.history[\"accuracy\"])\n",
        "plt.plot(history_adam.history[\"accuracy\"])\n",
        "plt.plot(history_rmsprop.history[\"accuracy\"])\n",
        "plt.title(\"Model Accuracy\")\n",
        "plt.ylabel(\"Accuracy\")\n",
        "plt.xlabel(\"Epoch\")\n",
        "plt.legend([\"SGD\", \"ADAM\", \"RMSProp\"], loc=\"upper left\")\n",
        "plt.show()\n",
        "\n",
        "plt.plot(history_sgd.history[\"val_accuracy\"])\n",
        "plt.plot(history_adam.history[\"val_accuracy\"])\n",
        "plt.plot(history_rmsprop.history[\"val_accuracy\"])\n",
        "plt.title(\"Model Validation Accuracy\")\n",
        "plt.ylabel(\"Accuracy\")\n",
        "plt.xlabel(\"Epoch\")\n",
        "plt.legend([\"SGD\", \"ADAM\", \"RMSProp\"], loc=\"upper left\")\n",
        "plt.show()"
      ],
      "metadata": {
        "colab": {
          "base_uri": "https://localhost:8080/",
          "height": 573
        },
        "id": "3UnKkzw-OV77",
        "outputId": "46e9e058-fce1-4f68-c36a-044f6bdd6d01"
      },
      "execution_count": 16,
      "outputs": [
        {
          "output_type": "display_data",
          "data": {
            "text/plain": [
              "<Figure size 432x288 with 1 Axes>"
            ],
            "image/png": "[encoded data removed]"
          },
          "metadata": {
            "needs_background": "light"
          }
        },
        {
          "output_type": "display_data",
          "data": {
            "text/plain": [
              "<Figure size 432x288 with 1 Axes>"
            ],
            "image/png": "[encoded data removed]"
          },
          "metadata": {
            "needs_background": "light"
          }
        }
      ]
    },
    {
      "cell_type": "code",
      "source": [],
      "metadata": {
        "id": "NfUfnVQVOaqJ"
      },
      "execution_count": null,
      "outputs": []
    }
  ]
}